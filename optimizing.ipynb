{
 "cells": [
  {
   "cell_type": "code",
   "execution_count": null,
   "metadata": {},
   "outputs": [],
   "source": [
    "import numpy as np\n",
    "import cv2\n",
    "import optuna\n",
    "from good_rules import CallableRuleset, basic_convolution, fast_inv_gaussian_activation\n",
    "\n",
    "\n",
    "def run_for(n, field, rules):\n",
    "    for _ in range(n):\n",
    "        field = rules(field)\n",
    "    return field\n",
    "\n",
    "\n",
    "def build_kernel(a1, a2, a3):\n",
    "    return np.array([\n",
    "        [a1, a2, a1],\n",
    "        [a2, a3, a2],\n",
    "        [a1, a2, a1]\n",
    "    ])\n",
    "\n",
    "\n",
    "def objective(trial: optuna.Trial):\n",
    "    a1 = trial.suggest_float('corner', -1, 1)\n",
    "    a2 = trial.suggest_float('side', -1, 1)\n",
    "    a3 = trial.suggest_float('center', -1, 1)\n",
    "    field = np.random.binomial(1, p=0.5, size=(800, 800)).astype('float32')\n",
    "    kernel = build_kernel(a1, a2, a3)\n",
    "    rules = CallableRuleset(\n",
    "        kernel,\n",
    "        basic_convolution,\n",
    "        fast_inv_gaussian_activation,\n",
    "        lambda x: x\n",
    "    )\n",
    "    t0 = run_for(300, field, rules)\n",
    "\n",
    "    res = []\n",
    "    for _ in range(300):\n",
    "        t1 = run_for(1, t0, rules)\n",
    "        diff = cv2.calcOpticalFlowFarneback(\n",
    "            cv2.bilateralFilter(t0, 9, 150, 150),\n",
    "            cv2.bilateralFilter(t1, 9, 150, 150),\n",
    "            None, pyr_scale=0.5, levels=3, winsize=5, iterations=3, poly_n=7, poly_sigma=1.5, flags=0)\n",
    "        res.append(cv2.cartToPolar(diff[..., 0], diff[..., 1])[0])\n",
    "\n",
    "    return np.mean(res)\n",
    "\n",
    "\n",
    "study = optuna.study.create_study(direction='maximize')\n",
    "study.optimize(objective, n_trials=5)\n",
    "\n",
    "study.trials_dataframe()\n",
    "\n"
   ]
  },
  {
   "cell_type": "code",
   "execution_count": null,
   "metadata": {},
   "outputs": [],
   "source": []
  }
 ],
 "metadata": {
  "kernelspec": {
   "display_name": "base",
   "language": "python",
   "name": "python3"
  },
  "language_info": {
   "codemirror_mode": {
    "name": "ipython",
    "version": 3
   },
   "file_extension": ".py",
   "mimetype": "text/x-python",
   "name": "python",
   "nbconvert_exporter": "python",
   "pygments_lexer": "ipython3",
   "version": "3.10.8"
  },
  "orig_nbformat": 4
 },
 "nbformat": 4,
 "nbformat_minor": 2
}
